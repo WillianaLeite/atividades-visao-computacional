{
 "cells": [
  {
   "cell_type": "code",
   "execution_count": 1,
   "metadata": {},
   "outputs": [],
   "source": [
    "import cv2 \n",
    "import numpy as np "
   ]
  },
  {
   "cell_type": "code",
   "execution_count": 2,
   "metadata": {},
   "outputs": [],
   "source": [
    "image = 255 *  np.ones((512,512), np.uint8)\n",
    "cv2.imshow('Imgem branca', image)\n",
    "cv2.waitKey(0)\n",
    "cv2.destroyAllWindows()"
   ]
  },
  {
   "cell_type": "code",
   "execution_count": 3,
   "metadata": {},
   "outputs": [],
   "source": [
    "image_circle = cv2.circle(image, (256, 256), 100, (0,0,0), -1)\n",
    "cv2.imshow('Imgem branca', image_circle)\n",
    "cv2.waitKey(0)\n",
    "cv2.destroyAllWindows()"
   ]
  },
  {
   "cell_type": "code",
   "execution_count": 53,
   "metadata": {},
   "outputs": [],
   "source": [
    "kernel1 = np.ones((3,3), np.uint8)"
   ]
  },
  {
   "cell_type": "code",
   "execution_count": 54,
   "metadata": {},
   "outputs": [],
   "source": [
    "gradient = cv2.morphologyEx(image_circle, cv2.MORPH_GRADIENT, kernel1)\n",
    "cv2.imshow('Gradient', gradient)\n",
    "cv2.waitKey(0)\n",
    "cv2.destroyAllWindows()"
   ]
  },
  {
   "cell_type": "code",
   "execution_count": 55,
   "metadata": {},
   "outputs": [],
   "source": [
    "kernel2 = np.zeros((514,514), np.uint8)"
   ]
  },
  {
   "cell_type": "code",
   "execution_count": 56,
   "metadata": {},
   "outputs": [],
   "source": [
    "image_circle_copy = gradient.copy()\n",
    "flood_fill = cv2.floodFill(image_circle_copy, kernel2, (0,0), 255)\n",
    "flood_fill_inv = cv2.bitwise_not(image_circle_copy)\n",
    "image_flood_fill = gradient | flood_fill_inv\n",
    "cv2.imshow('Flood_fill', image_flood_fill)\n",
    "cv2.waitKey(0)\n",
    "cv2.destroyAllWindows()"
   ]
  },
  {
   "cell_type": "code",
   "execution_count": 5,
   "metadata": {},
   "outputs": [],
   "source": [
    "image2 = np.zeros((512,512), np.uint8)\n",
    "image_circle2 = cv2.circle(image2, (256, 256), 100, (255,255,255), -1)\n",
    "cv2.imshow('image_circle2', image_circle2)\n",
    "cv2.waitKey(0)\n",
    "cv2.destroyAllWindows()\n",
    "\n",
    "ret, labels = cv2.connectedComponents(image_circle2)\n",
    "\n",
    "label_hue = np.uint8(179*labels/np.max(labels))\n",
    "blank_ch = 255*np.ones_like(label_hue)\n",
    "labeled_img = cv2.merge([label_hue, blank_ch, blank_ch])\n",
    "\n",
    "# cvt to BGR for display\n",
    "labeled_img = cv2.cvtColor(labeled_img, cv2.COLOR_HSV2BGR)\n",
    "\n",
    "# set bg label to black\n",
    "labeled_img[label_hue==0] = 0\n",
    "\n",
    "cv2.imshow('labeled.png', labeled_img)\n",
    "cv2.waitKey(0)\n",
    "cv2.destroyAllWindows()"
   ]
  },
  {
   "cell_type": "markdown",
   "metadata": {},
   "source": [
    "Placa de carro"
   ]
  },
  {
   "cell_type": "code",
   "execution_count": 6,
   "metadata": {},
   "outputs": [],
   "source": [
    "placa = cv2.imread('HUH9271.png', 0)\n",
    "_,thresh1 = cv2.threshold(placa,242,255,cv2.THRESH_BINARY_INV)\n",
    "cv2.imshow('Placa', placa)   \n",
    "cv2.imshow('Placa', thresh1)\n",
    "cv2.waitKey(0)\n",
    "cv2.destroyAllWindows()"
   ]
  },
  {
   "cell_type": "code",
   "execution_count": 7,
   "metadata": {},
   "outputs": [],
   "source": [
    "kernel2 = np.ones((3,3), np.uint8)"
   ]
  },
  {
   "cell_type": "code",
   "execution_count": 8,
   "metadata": {},
   "outputs": [],
   "source": [
    "erosion_placa = cv2.erode(thresh1, kernel2, iterations=1) \n",
    "cv2.imshow('Input', thresh1) \n",
    "cv2.imshow('Erosion', erosion_placa)\n",
    "cv2.waitKey(0)\n",
    "cv2.destroyAllWindows()"
   ]
  },
  {
   "cell_type": "code",
   "execution_count": 11,
   "metadata": {},
   "outputs": [],
   "source": [
    "opening_placa = cv2.morphologyEx(erosion_placa, cv2.MORPH_OPEN, kernel2)\n",
    "cv2.imshow('Input', erosion_placa) \n",
    "cv2.imshow('Opening', opening_placa)\n",
    "cv2.waitKey(0)\n",
    "cv2.destroyAllWindows()\n",
    "#um pouco grossa"
   ]
  },
  {
   "cell_type": "code",
   "execution_count": 10,
   "metadata": {},
   "outputs": [],
   "source": [
    "erosion_placa2 = cv2.erode(opening_placa, kernel2, iterations=1) \n",
    "cv2.imshow('Input', opening_placa) \n",
    "cv2.imshow('Erosion', erosion_placa2)\n",
    "cv2.waitKey(0)\n",
    "cv2.destroyAllWindows()\n",
    "#finas mais totalmente separada"
   ]
  },
  {
   "cell_type": "code",
   "execution_count": 12,
   "metadata": {},
   "outputs": [],
   "source": [
    "opening_placa_copy = opening_placa.copy()\n",
    "ret, labels = cv2.connectedComponents(opening_placa_copy)\n",
    "\n",
    "label_hue = np.uint8(179*labels/np.max(labels))\n",
    "blank_ch = 255*np.ones_like(label_hue)\n",
    "labeled_img = cv2.merge([label_hue, blank_ch, blank_ch])\n",
    "\n",
    "# cvt to BGR for display\n",
    "labeled_img = cv2.cvtColor(labeled_img, cv2.COLOR_HSV2BGR)\n",
    "\n",
    "# set bg label to black\n",
    "labeled_img[label_hue==0] = 0\n",
    "cv2.imshow('labeled.png', opening_placa)\n",
    "cv2.imshow('labeled.png', labeled_img)\n",
    "cv2.waitKey(0)\n",
    "cv2.destroyAllWindows()"
   ]
  },
  {
   "cell_type": "code",
   "execution_count": 13,
   "metadata": {},
   "outputs": [
    {
     "data": {
      "text/plain": [
       "True"
      ]
     },
     "execution_count": 13,
     "metadata": {},
     "output_type": "execute_result"
    }
   ],
   "source": [
    "cv2.imwrite(\"placa_componente_conexa.jpg\", labeled_img)"
   ]
  },
  {
   "cell_type": "code",
   "execution_count": 14,
   "metadata": {},
   "outputs": [
    {
     "data": {
      "text/plain": [
       "True"
      ]
     },
     "execution_count": 14,
     "metadata": {},
     "output_type": "execute_result"
    }
   ],
   "source": [
    "cv2.imwrite(\"placa_opening_placa.jpg\", opening_placa)"
   ]
  },
  {
   "cell_type": "code",
   "execution_count": null,
   "metadata": {},
   "outputs": [],
   "source": []
  }
 ],
 "metadata": {
  "kernelspec": {
   "display_name": "Python 3",
   "language": "python",
   "name": "python3"
  },
  "language_info": {
   "codemirror_mode": {
    "name": "ipython",
    "version": 3
   },
   "file_extension": ".py",
   "mimetype": "text/x-python",
   "name": "python",
   "nbconvert_exporter": "python",
   "pygments_lexer": "ipython3",
   "version": "3.6.10"
  }
 },
 "nbformat": 4,
 "nbformat_minor": 4
}
