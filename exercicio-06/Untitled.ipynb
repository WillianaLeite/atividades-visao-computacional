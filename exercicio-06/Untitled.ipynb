{
 "cells": [
  {
   "cell_type": "code",
   "execution_count": 3,
   "metadata": {},
   "outputs": [],
   "source": [
    "import cv2 \n",
    "import numpy as np"
   ]
  },
  {
   "cell_type": "markdown",
   "metadata": {},
   "source": [
    "Transformação Hough"
   ]
  },
  {
   "cell_type": "code",
   "execution_count": 7,
   "metadata": {},
   "outputs": [],
   "source": [
    "image_2 = cv2.imread('aeroporto.png')\n",
    "ret,thresh2 = cv2.threshold(image_2,175,255,cv2.THRESH_BINARY)\n",
    "cv2.imshow('thresh2', thresh2)\n",
    "cv2.waitKey(0)\n",
    "cv2.destroyAllWindows()"
   ]
  },
  {
   "cell_type": "code",
   "execution_count": 8,
   "metadata": {},
   "outputs": [
    {
     "data": {
      "text/plain": [
       "True"
      ]
     },
     "execution_count": 8,
     "metadata": {},
     "output_type": "execute_result"
    }
   ],
   "source": [
    "cv2.imwrite(\"aeroporto_thresh.jpg\", thresh2)"
   ]
  },
  {
   "cell_type": "code",
   "execution_count": 9,
   "metadata": {},
   "outputs": [],
   "source": [
    "edges = cv2.Canny(thresh2,10,15)\n",
    "#edges = cv2.Canny(img,50,200)\n",
    "cv2.imshow('edges', edges)\n",
    "cv2.waitKey(0)\n",
    "cv2.destroyAllWindows()"
   ]
  },
  {
   "cell_type": "code",
   "execution_count": 54,
   "metadata": {},
   "outputs": [
    {
     "data": {
      "text/plain": [
       "True"
      ]
     },
     "execution_count": 54,
     "metadata": {},
     "output_type": "execute_result"
    }
   ],
   "source": [
    "cv2.imwrite(\"edges.jpg\", edges)"
   ]
  },
  {
   "cell_type": "code",
   "execution_count": 12,
   "metadata": {},
   "outputs": [
    {
     "data": {
      "text/plain": [
       "True"
      ]
     },
     "execution_count": 12,
     "metadata": {},
     "output_type": "execute_result"
    }
   ],
   "source": [
    "lines = cv2.HoughLines(edges,1,np.pi/180, 0)\n",
    "\n",
    "for p,angle in lines[0]: \n",
    "      \n",
    "    a = np.cos(angle) \n",
    "  \n",
    "    b = np.sin(angle) \n",
    "      \n",
    "    x0 = a*p\n",
    "      \n",
    "    y0 = b*p \n",
    "      \n",
    "    x1 = int(x0 + 1000*(-b)) \n",
    "      \n",
    "    y1 = int(y0 + 1000*(a)) \n",
    "  \n",
    "    x2 = int(x0 - 1000*(-b)) \n",
    "      \n",
    "    y2 = int(y0 - 1000*(a))\n",
    "      \n",
    "    cv2.line(image_2,(x1,y1), (x2,y2), (0,0,255),1) \n",
    "       \n",
    "cv2.imwrite('linesDetected.jpg', image_2) "
   ]
  },
  {
   "cell_type": "code",
   "execution_count": null,
   "metadata": {},
   "outputs": [],
   "source": []
  }
 ],
 "metadata": {
  "@webio": {
   "lastCommId": null,
   "lastKernelId": null
  },
  "kernelspec": {
   "display_name": "Python 3",
   "language": "python",
   "name": "python3"
  },
  "language_info": {
   "codemirror_mode": {
    "name": "ipython",
    "version": 3
   },
   "file_extension": ".py",
   "mimetype": "text/x-python",
   "name": "python",
   "nbconvert_exporter": "python",
   "pygments_lexer": "ipython3",
   "version": "3.6.10"
  }
 },
 "nbformat": 4,
 "nbformat_minor": 4
}
