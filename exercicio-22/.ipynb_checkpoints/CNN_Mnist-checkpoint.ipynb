{
 "cells": [
  {
   "cell_type": "markdown",
   "metadata": {},
   "source": [
    "# Informações importantes\n",
    "\n",
    "Este notebook foi executado na plataforma Google Colaboratory, pois não consegui executar em minha máquina, exigia muito processamento."
   ]
  },
  {
   "cell_type": "code",
   "execution_count": 1,
   "metadata": {
    "colab": {
     "base_uri": "https://localhost:8080/",
     "height": 34
    },
    "colab_type": "code",
    "id": "xgND3ifslwe2",
    "outputId": "bc49a5f1-812a-4253-d887-280a16f01499"
   },
   "outputs": [
    {
     "name": "stdout",
     "output_type": "stream",
     "text": [
      "TensorFlow 1.x selected.\n"
     ]
    }
   ],
   "source": [
    "%tensorflow_version 1.x"
   ]
  },
  {
   "cell_type": "code",
   "execution_count": 0,
   "metadata": {
    "colab": {},
    "colab_type": "code",
    "id": "sllX2WEemD5y"
   },
   "outputs": [],
   "source": [
    "import numpy as np\n",
    "from tensorflow import keras\n",
    "from tensorflow.keras import layers"
   ]
  },
  {
   "cell_type": "code",
   "execution_count": 3,
   "metadata": {
    "colab": {
     "base_uri": "https://localhost:8080/",
     "height": 102
    },
    "colab_type": "code",
    "id": "fCf4hKlVmNFE",
    "outputId": "2783c436-aa77-4ab4-beed-2459e11b03e8"
   },
   "outputs": [
    {
     "name": "stdout",
     "output_type": "stream",
     "text": [
      "Downloading data from https://storage.googleapis.com/tensorflow/tf-keras-datasets/mnist.npz\n",
      "11493376/11490434 [==============================] - 0s 0us/step\n",
      "x_train shape: (60000, 28, 28, 1)\n",
      "60000 train samples\n",
      "10000 test samples\n"
     ]
    }
   ],
   "source": [
    "# Model / data parameters\n",
    "num_classes = 10\n",
    "input_shape = (28, 28, 1)\n",
    "\n",
    "# the data, split between train and test sets\n",
    "(x_train, y_train), (x_test, y_test) = keras.datasets.mnist.load_data()\n",
    "\n",
    "# Scale images to the [0, 1] range\n",
    "x_train = x_train.astype(\"float32\") / 255\n",
    "x_test = x_test.astype(\"float32\") / 255\n",
    "# Make sure images have shape (28, 28, 1)\n",
    "x_train = np.expand_dims(x_train, -1)\n",
    "x_test = np.expand_dims(x_test, -1)\n",
    "print(\"x_train shape:\", x_train.shape)\n",
    "print(x_train.shape[0], \"train samples\")\n",
    "print(x_test.shape[0], \"test samples\")\n",
    "\n",
    "\n",
    "# convert class vectors to binary class matrices\n",
    "y_train = keras.utils.to_categorical(y_train, num_classes)\n",
    "y_test = keras.utils.to_categorical(y_test, num_classes)"
   ]
  },
  {
   "cell_type": "code",
   "execution_count": 5,
   "metadata": {
    "colab": {
     "base_uri": "https://localhost:8080/",
     "height": 462
    },
    "colab_type": "code",
    "id": "tFNChkHOmR3x",
    "outputId": "3c323a1e-6842-49fd-dea1-a3a5949f9f6d"
   },
   "outputs": [
    {
     "name": "stdout",
     "output_type": "stream",
     "text": [
      "WARNING:tensorflow:From /tensorflow-1.15.2/python3.6/tensorflow_core/python/ops/resource_variable_ops.py:1630: calling BaseResourceVariable.__init__ (from tensorflow.python.ops.resource_variable_ops) with constraint is deprecated and will be removed in a future version.\n",
      "Instructions for updating:\n",
      "If using Keras pass *_constraint arguments to layers.\n",
      "Model: \"sequential\"\n",
      "_________________________________________________________________\n",
      "Layer (type)                 Output Shape              Param #   \n",
      "=================================================================\n",
      "conv2d (Conv2D)              (None, 26, 26, 32)        320       \n",
      "_________________________________________________________________\n",
      "max_pooling2d (MaxPooling2D) (None, 13, 13, 32)        0         \n",
      "_________________________________________________________________\n",
      "conv2d_1 (Conv2D)            (None, 11, 11, 64)        18496     \n",
      "_________________________________________________________________\n",
      "max_pooling2d_1 (MaxPooling2 (None, 5, 5, 64)          0         \n",
      "_________________________________________________________________\n",
      "flatten (Flatten)            (None, 1600)              0         \n",
      "_________________________________________________________________\n",
      "dropout (Dropout)            (None, 1600)              0         \n",
      "_________________________________________________________________\n",
      "dense (Dense)                (None, 10)                16010     \n",
      "=================================================================\n",
      "Total params: 34,826\n",
      "Trainable params: 34,826\n",
      "Non-trainable params: 0\n",
      "_________________________________________________________________\n"
     ]
    }
   ],
   "source": [
    "model = keras.Sequential(\n",
    "    [\n",
    "        keras.Input(shape=input_shape),\n",
    "        layers.Conv2D(32, kernel_size=(3, 3), activation=\"relu\"),\n",
    "        layers.MaxPooling2D(pool_size=(2, 2)),\n",
    "        layers.Conv2D(64, kernel_size=(3, 3), activation=\"relu\"),\n",
    "        layers.MaxPooling2D(pool_size=(2, 2)),\n",
    "        layers.Flatten(),\n",
    "        layers.Dropout(0.5),\n",
    "        layers.Dense(num_classes, activation=\"softmax\"),\n",
    "    ]\n",
    ")\n",
    "\n",
    "model.summary()"
   ]
  },
  {
   "cell_type": "code",
   "execution_count": 6,
   "metadata": {
    "colab": {
     "base_uri": "https://localhost:8080/",
     "height": 561
    },
    "colab_type": "code",
    "id": "NIcQljmzo9-i",
    "outputId": "1214e441-f01e-4e23-89d8-28a809ee6ebe"
   },
   "outputs": [
    {
     "name": "stdout",
     "output_type": "stream",
     "text": [
      "Train on 54000 samples, validate on 6000 samples\n",
      "Epoch 1/15\n",
      "54000/54000 [==============================] - 9s 161us/sample - loss: 0.3718 - acc: 0.8869 - val_loss: 0.0847 - val_acc: 0.9780\n",
      "Epoch 2/15\n",
      "54000/54000 [==============================] - 2s 43us/sample - loss: 0.1183 - acc: 0.9644 - val_loss: 0.0606 - val_acc: 0.9840\n",
      "Epoch 3/15\n",
      "54000/54000 [==============================] - 2s 43us/sample - loss: 0.0919 - acc: 0.9722 - val_loss: 0.0466 - val_acc: 0.9882\n",
      "Epoch 4/15\n",
      "54000/54000 [==============================] - 2s 43us/sample - loss: 0.0747 - acc: 0.9775 - val_loss: 0.0458 - val_acc: 0.9868\n",
      "Epoch 5/15\n",
      "54000/54000 [==============================] - 2s 43us/sample - loss: 0.0671 - acc: 0.9793 - val_loss: 0.0462 - val_acc: 0.9882\n",
      "Epoch 6/15\n",
      "54000/54000 [==============================] - 2s 43us/sample - loss: 0.0592 - acc: 0.9820 - val_loss: 0.0378 - val_acc: 0.9890\n",
      "Epoch 7/15\n",
      "54000/54000 [==============================] - 2s 42us/sample - loss: 0.0545 - acc: 0.9832 - val_loss: 0.0352 - val_acc: 0.9905\n",
      "Epoch 8/15\n",
      "54000/54000 [==============================] - 2s 43us/sample - loss: 0.0494 - acc: 0.9845 - val_loss: 0.0332 - val_acc: 0.9908\n",
      "Epoch 9/15\n",
      "54000/54000 [==============================] - 2s 44us/sample - loss: 0.0480 - acc: 0.9846 - val_loss: 0.0316 - val_acc: 0.9910\n",
      "Epoch 10/15\n",
      "54000/54000 [==============================] - 2s 44us/sample - loss: 0.0450 - acc: 0.9853 - val_loss: 0.0320 - val_acc: 0.9903\n",
      "Epoch 11/15\n",
      "54000/54000 [==============================] - 2s 44us/sample - loss: 0.0422 - acc: 0.9865 - val_loss: 0.0297 - val_acc: 0.9915\n",
      "Epoch 12/15\n",
      "54000/54000 [==============================] - 2s 43us/sample - loss: 0.0373 - acc: 0.9880 - val_loss: 0.0324 - val_acc: 0.9900\n",
      "Epoch 13/15\n",
      "54000/54000 [==============================] - 2s 44us/sample - loss: 0.0376 - acc: 0.9879 - val_loss: 0.0311 - val_acc: 0.9905\n",
      "Epoch 14/15\n",
      "54000/54000 [==============================] - 2s 43us/sample - loss: 0.0355 - acc: 0.9884 - val_loss: 0.0296 - val_acc: 0.9927\n",
      "Epoch 15/15\n",
      "54000/54000 [==============================] - 2s 43us/sample - loss: 0.0331 - acc: 0.9892 - val_loss: 0.0326 - val_acc: 0.9907\n"
     ]
    },
    {
     "data": {
      "text/plain": [
       "<tensorflow.python.keras.callbacks.History at 0x7fc979e572e8>"
      ]
     },
     "execution_count": 6,
     "metadata": {
      "tags": []
     },
     "output_type": "execute_result"
    }
   ],
   "source": [
    "batch_size = 128\n",
    "epochs = 15\n",
    "\n",
    "model.compile(loss=\"categorical_crossentropy\", optimizer=\"adam\", metrics=[\"accuracy\"])\n",
    "\n",
    "model.fit(x_train, y_train, batch_size=batch_size, epochs=epochs, validation_split=0.1)"
   ]
  },
  {
   "cell_type": "code",
   "execution_count": 7,
   "metadata": {
    "colab": {
     "base_uri": "https://localhost:8080/",
     "height": 51
    },
    "colab_type": "code",
    "id": "Od_B3QZbpGjv",
    "outputId": "9e5573b7-1a0a-49ed-ac3a-0c4a3857bdc2"
   },
   "outputs": [
    {
     "name": "stdout",
     "output_type": "stream",
     "text": [
      "Test loss: 0.027777695878461236\n",
      "Test accuracy: 0.991\n"
     ]
    }
   ],
   "source": [
    "score = model.evaluate(x_test, y_test, verbose=0)\n",
    "print(\"Test loss:\", score[0])\n",
    "print(\"Test accuracy:\", score[1])"
   ]
  },
  {
   "cell_type": "code",
   "execution_count": 0,
   "metadata": {
    "colab": {},
    "colab_type": "code",
    "id": "6RegB5QcuAHS"
   },
   "outputs": [],
   "source": []
  }
 ],
 "metadata": {
  "accelerator": "GPU",
  "colab": {
   "name": "CNN_Mnist.ipynb",
   "provenance": []
  },
  "kernelspec": {
   "display_name": "Python 3",
   "language": "python",
   "name": "python3"
  },
  "language_info": {
   "codemirror_mode": {
    "name": "ipython",
    "version": 3
   },
   "file_extension": ".py",
   "mimetype": "text/x-python",
   "name": "python",
   "nbconvert_exporter": "python",
   "pygments_lexer": "ipython3",
   "version": "3.6.10"
  }
 },
 "nbformat": 4,
 "nbformat_minor": 1
}
